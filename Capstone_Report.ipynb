{
 "cells": [
  {
   "cell_type": "markdown",
   "metadata": {},
   "source": [
    "<table><tr>\n",
    "<td> <img src=\"images/new-york.jpg\" width=\"600\"/> </td>\n",
    "<td> <img src=\"images/hollywood-sign.jpg\"  width=\"500\"/> </td>\n",
    "</tr></table>\n",
    "\n"
   ]
  },
  {
   "cell_type": "markdown",
   "metadata": {},
   "source": [
    "<h1 align=\"center\"><font-size = 6>The Big Apple vs Hollywood</font></h1>\n",
    "<h1 align=\"center\"><font-size = 5>(New York city vs Los Angeles)</font></h1>\n",
    "\n",
    "Written by A.ABDELSALAM, Oct 16 2020"
   ]
  },
  {
   "cell_type": "markdown",
   "metadata": {},
   "source": [
    "# 1. Introduction\n",
    "\n",
    "This report could have so many names, \"The class of the titans\", \"El classico\", but the fact is this fight over which of New York city or Los Angeles is the heart of the United States has been going on, and will most likely go on, for many years. Any of these cities alone has a tremendous influence on the rest of the world, maybe more so than any other city on this planet. From the huge impact that Wall Street has on world economics to the influence of hollywood movies on the everyday lives of each of us, we could speak hours on end about them.  \n",
    "\n",
    "Aside from this, New York city and Los Angeles remain on the top of the lists of tourists wanting to visit for the first time the US, or for the regular tourists wanting to spend the holidays. Indeed, both are diverse and multicultural and offer a wide palette of experiences that is widely sought after by tourists. In the project we will try to group the neighbourhoods of NYC and LA respectively and draw conclusions on what they both have to offer and if one city stands out more than the other.\n",
    "\n",
    "\n",
    "# 2. Business Problem\n",
    "\n",
    "\n",
    "From a business standpoint the aim is to help tourists in choosing their destinations depending on the type of experience proposed by one or the other city. This could also help them not only decide which city to go to but what neighborhood to stay in. This could also be useful for the locals, looking to move from one city to the other, or even from any city to those two. Our analysis will hoefully provode them with a better breakdown of neighborhood compositions, in terms of culture, cuisine and facilitations. Finally, this could be the start of a more serious project for buisness owners looking to open up or branch their business.\n",
    "\n",
    "\n",
    "# 3. Data Description\n",
    "\n",
    "We will require geographical location data for both New York City and Los Angeles. The major difference is that New York city is split into boroughs and Los Angeles isn't but that should not be a problem, we will ignore the Boroughs and focus only on all the neighborhoods within New York city rather than focus on one Borough. We will essentially need a dataset that contains all the neighborhoods that exist in each city as well as the the latitude and logitude coordinates of each neighborhood.\n",
    "\n",
    "\n",
    "\n",
    "\n",
    "## 3.1 New York city\n",
    "\n",
    "To retrieve our data we will download it for free from this url : https://geo.nyu.edu/catalog/nyu_2451_34572\n",
    "\n",
    "The JSON file contains a lot of unecessary information and will need to be wrangled appropriately in order to extract the pertinent data. The dataset has information on the Borough as well as Neighborhood, as well as the latitude and longitude for all the neighborhoods, we will limit ouselves to only:\n",
    "1. *['features]['properties']['name']* : Name of Neighborhoods in NYC\n",
    "2. *['features]['geometry']['coordinates']* : which is a vector that contains the Latitude and Longitude of the Neighborhoods\n",
    "\n",
    "\n",
    "\n",
    "## 3.2 Los Angeles\n",
    "\n",
    "Similarily, we will download a csv readily available for free at this url : https://usc.data.socrata.com/dataset/Los-Angeles-Neighborhood-Map/r8qd-yxsr\n",
    "\n",
    "The CSV has many unecessary information but we will only retain the information we need about the neighborhoods of Los Angeles county:\n",
    "\n",
    "1. *name* : Name of Neighbourhoods in LA\n",
    "2. *latitude* : Latitude of Neighbourhoods in LA\n",
    "3. *longitude* : Longitude of Neighbourhoods in LA\n",
    "\n",
    "\n",
    "## 3.3 Foursquare API Data\n",
    "\n",
    "We will need data about different venues in the different neighbourhoods. To get that that information we will leverage the Foursquare API locational information. Foursquare is a location data provider containing information about all venues and events within an area of interest. Those information can be in the form of venue names, locations, menus, customer ratings and comments and even pictures of the venue. This makes our job easier as we can find all the information centralized in one place. Consequently we will use the foursquare location platform as our only data source since all the required information can be obtained through their API directly from the notebook.\n",
    "\n",
    "Once we have established a list of neighbourhoods, we can then connect to the Foursquare API to query for information about venues inside each and every neighbourhood. The data returned  from Foursquare query contains information of venues within a specified distance of the longitude and latitude of each neighborhood. The information foe each venue is organized as follows:\n",
    "\n",
    "1. *Neighbourhood* : Name of the Neighbourhood\n",
    "2. *Neighbourhood Latitude* : Latitude of the Neighbourhood\n",
    "3. *Neighbourhood Longitude* : Longitude of the Neighbourhood\n",
    "4. *Venue* : Name of the Venue\n",
    "5. *Venue Latitude* : Latitude of Venue\n",
    "6. *Venue Longitude* : Longitude of Venue\n",
    "7. *Venue Category* : Category of Venue\n",
    "\n",
    "For each neighbourhood, we have chosen the radius to be 500 meters and we have limited the number of returned results to 100. Indeed, with a personal free account we are limited to 99500 basic calls a day and 500 premium. This is something to take into condiseration as we will not be able to get ALL venues, and as such our data and thefore analysis will be slightly biased.\n",
    "\n",
    "Once the data for the venues of each neighborhood in NYC and LA have been gathered we will build our cluser model to group the neghborhoods according to their similarities. The rest of the report will over the methodology, data collection, wrangling, visualization and model construction. We will present and discuss our results and finish off with conclusions."
   ]
  },
  {
   "cell_type": "code",
   "execution_count": null,
   "metadata": {},
   "outputs": [],
   "source": []
  }
 ],
 "metadata": {
  "kernelspec": {
   "display_name": "Python 3",
   "language": "python",
   "name": "python3"
  },
  "language_info": {
   "codemirror_mode": {
    "name": "ipython",
    "version": 3
   },
   "file_extension": ".py",
   "mimetype": "text/x-python",
   "name": "python",
   "nbconvert_exporter": "python",
   "pygments_lexer": "ipython3",
   "version": "3.8.3"
  }
 },
 "nbformat": 4,
 "nbformat_minor": 4
}
